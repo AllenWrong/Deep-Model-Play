{
 "cells": [
  {
   "cell_type": "markdown",
   "id": "2606f9bb",
   "metadata": {},
   "source": [
    "# Tutorials"
   ]
  },
  {
   "cell_type": "markdown",
   "id": "d5c5f86b",
   "metadata": {},
   "source": [
    "[Bayesian neural networks via MCMC: a Python-based tutorial](https://arxiv.org/abs/2304.02595)\n",
    "\n",
    "[Model-Based Deep Learning](https://arxiv.org/abs/2012.08405)\n",
    "\n",
    "[Large Multimodal Models: Notes on CVPR 2023 Tutorial](https://arxiv.org/abs/2306.14895)\n",
    "\n",
    "[IMPORTANCE SAMPLING FOR MINIMIZATION OF TAIL RISKS: A TUTORIAL](https://mpra.ub.uni-muenchen.de/103745/1/MPRA_paper_103745.pdf)\n",
    "\n",
    "[A Tutorial on the Spectral Theory of Markov Chains](https://arxiv.org/abs/2207.02296)\n",
    "\n",
    "[Training Latent Variable Models with Auto-encoding Variational Bayes: A Tutorial](https://arxiv.org/abs/2208.07818)\n",
    "\n",
    "[A Tutorial on Parametric Variational Inference](https://arxiv.org/abs/2301.01236)\n",
    "\n",
    "[A practical tutorial on Variational Bayes](https://arxiv.org/abs/2103.01327)\n",
    "\n",
    "[Factor Analysis, Probabilistic Principal Component Analysis, Variational Inference, and Variational Autoencoder: Tutorial and Survey](https://arxiv.org/abs/2101.00734)\n",
    "\n",
    "[]()"
   ]
  },
  {
   "cell_type": "code",
   "execution_count": null,
   "id": "a56dd790",
   "metadata": {},
   "outputs": [],
   "source": []
  }
 ],
 "metadata": {
  "kernelspec": {
   "display_name": "Python 3",
   "language": "python",
   "name": "python3"
  },
  "language_info": {
   "codemirror_mode": {
    "name": "ipython",
    "version": 3
   },
   "file_extension": ".py",
   "mimetype": "text/x-python",
   "name": "python",
   "nbconvert_exporter": "python",
   "pygments_lexer": "ipython3",
   "version": "3.7.10"
  },
  "toc": {
   "base_numbering": 1,
   "nav_menu": {},
   "number_sections": true,
   "sideBar": true,
   "skip_h1_title": false,
   "title_cell": "Table of Contents",
   "title_sidebar": "Contents",
   "toc_cell": false,
   "toc_position": {},
   "toc_section_display": true,
   "toc_window_display": false
  }
 },
 "nbformat": 4,
 "nbformat_minor": 5
}
