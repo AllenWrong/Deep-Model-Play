{
 "cells": [
  {
   "cell_type": "markdown",
   "id": "19591e4d-05fc-49ae-99d8-f03a7aa8808d",
   "metadata": {},
   "source": [
    "## BilinearInteraction\n",
    "\n",
    "bilinear interaction in fibinet"
   ]
  },
  {
   "cell_type": "code",
   "execution_count": null,
   "id": "a74e8d2a-c631-4110-8808-719896dcfc36",
   "metadata": {},
   "outputs": [],
   "source": [
    "import torch\n",
    "from torch import nn\n",
    "import itertools\n",
    "\n",
    "\n",
    "class Bilinear(nn.Module):\n",
    "    \"\"\"A high performance implementation of bilinear interaction in fibinet\n",
    "    ref: https://github.com/shenweichen/DeepCTR-Torch/blob/master/deepctr_torch/layers/interaction.py#L104C1-L156C35\n",
    "    ref: https://arxiv.org/abs/2209.05016\n",
    "\n",
    "    No LoRA\n",
    "    \"\"\"\n",
    "    def __init__(self, field_num, field_emb_dim, method='each_ip'):\n",
    "        \"\"\"\n",
    "        Args:\n",
    "            method: share, each, each_ip, share_ip. P2P is costly, not suppoted currently\n",
    "        \"\"\"\n",
    "        super().__init__()\n",
    "        self.method = method\n",
    "        if method == 'share' or method == 'share_ip':\n",
    "            self.W = nn.Parameter(torch.rand(field_emb_dim, field_emb_dim))\n",
    "        elif method == 'each' or method == 'each_ip':\n",
    "            self.W = nn.Parameter(torch.rand(field_num, field_emb_dim, field_emb_dim))\n",
    "        else:\n",
    "            raise NotImplementedError\n",
    "\n",
    "    def forward(self, x):\n",
    "        \"\"\"\n",
    "\n",
    "        Args:\n",
    "            x (torch.Tensor): (bs, f, d)\n",
    "\n",
    "        Raises:\n",
    "            NotImplementedError:\n",
    "\n",
    "        Returns:\n",
    "            (torch.Tensor): (bs, f(f-1)//2, d)\n",
    "        \"\"\"\n",
    "        if self.method == 'each_ip':\n",
    "            x_i = torch.unsqueeze(x, dim=2)  # (bs, f, 1, d)\n",
    "            x_j = torch.unsqueeze(x, dim=1)  # (bs, 1, f, d)\n",
    "            ip  = torch.matmul(x_i, self.W) * x_j\n",
    "\n",
    "            idx = itertools.combinations(list(range(x.shape[1])), r=2)\n",
    "            idx = torch.tensor(list(idx))\n",
    "            return ip[:, idx[:, 0], idx[:, 1]] \n",
    "        \n",
    "        elif self.method == 'share_ip':\n",
    "            x_i = torch.unsqueeze(x, dim=2)  # (bs, f, 1, d)\n",
    "            x_j = torch.unsqueeze(x, dim=1)  # (bs, 1, f, d)\n",
    "            ip  = x_i @ self.W * x_j\n",
    "\n",
    "            idx = itertools.combinations(list(range(x.shape[1])), r=2)\n",
    "            idx = torch.tensor(list(idx))\n",
    "            return ip[:, idx[:, 0], idx[:, 1]]  # (bs, f*f(-1)/2, d)\n",
    "        \n",
    "        else:\n",
    "            raise NotImplementedError"
   ]
  }
 ],
 "metadata": {
  "kernelspec": {
   "display_name": "Python 3 (ipykernel)",
   "language": "python",
   "name": "python3"
  },
  "language_info": {
   "codemirror_mode": {
    "name": "ipython",
    "version": 3
   },
   "file_extension": ".py",
   "mimetype": "text/x-python",
   "name": "python",
   "nbconvert_exporter": "python",
   "pygments_lexer": "ipython3",
   "version": "3.11.8"
  }
 },
 "nbformat": 4,
 "nbformat_minor": 5
}
